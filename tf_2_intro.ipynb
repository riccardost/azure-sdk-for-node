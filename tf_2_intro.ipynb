{
  "nbformat": 4,
  "nbformat_minor": 0,
  "metadata": {
    "colab": {
      "name": "tf_2_intro.ipynb",
      "provenance": [],
      "collapsed_sections": [],
      "include_colab_link": true
    },
    "kernelspec": {
      "name": "python3",
      "display_name": "Python 3"
    },
    "accelerator": "GPU"
  },
  "cells": [
    {
      "cell_type": "markdown",
      "metadata": {
        "id": "view-in-github",
        "colab_type": "text"
      },
      "source": [
        "<a href=\"https://colab.research.google.com/github/riccardost/azure-sdk-for-node/blob/master/tf_2_intro.ipynb\" target=\"_parent\"><img src=\"https://colab.research.google.com/assets/colab-badge.svg\" alt=\"Open In Colab\"/></a>"
      ]
    },
    {
      "cell_type": "markdown",
      "metadata": {
        "id": "Mg-hXgrzcGBi",
        "colab_type": "text"
      },
      "source": [
        "# TensorFlow 2.0 Intro"
      ]
    },
    {
      "cell_type": "markdown",
      "metadata": {
        "id": "BIqCJe_xcOU5",
        "colab_type": "text"
      },
      "source": [
        "## Imports\n"
      ]
    },
    {
      "cell_type": "code",
      "metadata": {
        "id": "J76ctP9PT-9N",
        "colab_type": "code",
        "colab": {}
      },
      "source": [
        "import tensorflow as tf\n",
        "from tensorflow.keras import datasets, layers, models, optimizers\n",
        "import matplotlib.pyplot as plt\n",
        "\n",
        "if tf.__version__ < \"2.0.0\":\n",
        "  !pip install --upgrade tensorflow_gpu==2.0"
      ],
      "execution_count": 0,
      "outputs": []
    },
    {
      "cell_type": "markdown",
      "metadata": {
        "id": "wa0HE1nXcT7Q",
        "colab_type": "text"
      },
      "source": [
        "## Loading data and visualisation"
      ]
    },
    {
      "cell_type": "code",
      "metadata": {
        "id": "z9mgIS8lVyb6",
        "colab_type": "code",
        "colab": {}
      },
      "source": [
        "\n",
        "(train_images, train_labels), (test_images, test_labels) = datasets.mnist.load_data()"
      ],
      "execution_count": 0,
      "outputs": []
    },
    {
      "cell_type": "code",
      "metadata": {
        "id": "LCZyCK1JcBzV",
        "colab_type": "code",
        "outputId": "237f686b-d44e-44b8-fe1d-6148156e8e2d",
        "colab": {
          "base_uri": "https://localhost:8080/",
          "height": 592
        }
      },
      "source": [
        "class_names = ['zero', 'one', 'two', 'three', 'four', 'five',\n",
        "               'six', 'seven', 'eight', 'nine']\n",
        "\n",
        "plt.figure(figsize=(10,10))\n",
        "for i in range(16):\n",
        "    plt.subplot(4, 4, i+1)\n",
        "    plt.xticks([])\n",
        "    plt.yticks([])\n",
        "    plt.imshow(train_images[i], cmap=plt.cm.binary)\n",
        "    plt.xlabel(class_names[train_labels[i]])\n",
        "plt.show()"
      ],
      "execution_count": 0,
      "outputs": [
        {
          "output_type": "display_data",
          "data": {
            "image/png": "[encoded data removed]",
            "text/plain": [
              "<Figure size 720x720 with 16 Axes>"
            ]
          },
          "metadata": {
            "tags": []
          }
        }
      ]
    },
    {
      "cell_type": "markdown",
      "metadata": {
        "id": "5bzF0Tn2hr9G",
        "colab_type": "text"
      },
      "source": [
        "## Model Definition"
      ]
    },
    {
      "cell_type": "code",
      "metadata": {
        "id": "nKVnNqnOhrSb",
        "colab_type": "code",
        "outputId": "a87e21d4-fb9a-4a59-f9bc-72943b3aaa59",
        "colab": {
          "base_uri": "https://localhost:8080/",
          "height": 756
        }
      },
      "source": [
        "IMG_SIZE = (28, 28, 1)\n",
        "input_img = layers.Input(shape=IMG_SIZE)\n",
        "\n",
        "model = layers.Conv2D(32, (3, 3), padding='same')(input_img)\n",
        "model = layers.Activation('relu')(model)\n",
        "model = layers.Conv2D(32, (3, 3), padding='same', strides=(2, 2))(model)\n",
        "model = layers.Activation('relu')(model)\n",
        "\n",
        "model = layers.Conv2D(64, (3, 3), padding='same')(model)\n",
        "model = layers.Activation('relu')(model)\n",
        "model = layers.Conv2D(64, (3, 3), padding='same', strides=(2, 2))(model)\n",
        "model = layers.Activation('relu')(model)\n",
        "\n",
        "model = layers.Conv2D(64, (3, 3), padding='same')(model)\n",
        "model = layers.Activation('relu')(model)\n",
        "model = layers.Conv2D(64, (3, 3), padding='same')(model)\n",
        "model = layers.Activation('relu')(model)\n",
        "\n",
        "model = layers.GlobalAveragePooling2D()(model)\n",
        "model = layers.Dense(32)(model)\n",
        "model = layers.Activation('relu')(model)\n",
        "model = layers.Dense(10)(model)\n",
        "output_img = layers.Activation('softmax')(model)\n",
        "\n",
        "model = models.Model(input_img, output_img)\n",
        "\n",
        "model.summary()"
      ],
      "execution_count": 0,
      "outputs": [
        {
          "output_type": "stream",
          "text": [
            "Model: \"model\"\n",
            "_________________________________________________________________\n",
            "Layer (type)                 Output Shape              Param #   \n",
            "=================================================================\n",
            "input_1 (InputLayer)         [(None, 28, 28, 1)]       0         \n",
            "_________________________________________________________________\n",
            "conv2d (Conv2D)              (None, 28, 28, 32)        320       \n",
            "_________________________________________________________________\n",
            "activation (Activation)      (None, 28, 28, 32)        0         \n",
            "_________________________________________________________________\n",
            "conv2d_1 (Conv2D)            (None, 14, 14, 32)        9248      \n",
            "_________________________________________________________________\n",
            "activation_1 (Activation)    (None, 14, 14, 32)        0         \n",
            "_________________________________________________________________\n",
            "conv2d_2 (Conv2D)            (None, 14, 14, 64)        18496     \n",
            "_________________________________________________________________\n",
            "activation_2 (Activation)    (None, 14, 14, 64)        0         \n",
            "_________________________________________________________________\n",
            "conv2d_3 (Conv2D)            (None, 7, 7, 64)          36928     \n",
            "_________________________________________________________________\n",
            "activation_3 (Activation)    (None, 7, 7, 64)          0         \n",
            "_________________________________________________________________\n",
            "conv2d_4 (Conv2D)            (None, 7, 7, 64)          36928     \n",
            "_________________________________________________________________\n",
            "activation_4 (Activation)    (None, 7, 7, 64)          0         \n",
            "_________________________________________________________________\n",
            "conv2d_5 (Conv2D)            (None, 7, 7, 64)          36928     \n",
            "_________________________________________________________________\n",
            "activation_5 (Activation)    (None, 7, 7, 64)          0         \n",
            "_________________________________________________________________\n",
            "global_average_pooling2d (Gl (None, 64)                0         \n",
            "_________________________________________________________________\n",
            "dense (Dense)                (None, 32)                2080      \n",
            "_________________________________________________________________\n",
            "activation_6 (Activation)    (None, 32)                0         \n",
            "_________________________________________________________________\n",
            "dense_1 (Dense)              (None, 10)                330       \n",
            "_________________________________________________________________\n",
            "activation_7 (Activation)    (None, 10)                0         \n",
            "=================================================================\n",
            "Total params: 141,258\n",
            "Trainable params: 141,258\n",
            "Non-trainable params: 0\n",
            "_________________________________________________________________\n"
          ],
          "name": "stdout"
        }
      ]
    },
    {
      "cell_type": "markdown",
      "metadata": {
        "id": "nHzjHSbylqD6",
        "colab_type": "text"
      },
      "source": [
        "## Training and Testing"
      ]
    },
    {
      "cell_type": "code",
      "metadata": {
        "id": "fro5wEeqltYG",
        "colab_type": "code",
        "colab": {}
      },
      "source": [
        "train_images = train_images.reshape(60000, 28, 28, 1).astype('float32') / 255.0\n",
        "test_images = test_images.reshape(10000, 28, 28, 1).astype('float32') / 255.0\n",
        "\n",
        "train_labels = tf.keras.utils.to_categorical(train_labels, 10)\n",
        "test_labels = tf.keras.utils.to_categorical(test_labels, 10)"
      ],
      "execution_count": 0,
      "outputs": []
    },
    {
      "cell_type": "code",
      "metadata": {
        "id": "2oX22Rfln6f5",
        "colab_type": "code",
        "colab": {}
      },
      "source": [
        "adam = optimizers.Adam(lr=0.0001)\n",
        "model.compile(adam, loss='categorical_crossentropy', metrics=[\"accuracy\"])"
      ],
      "execution_count": 0,
      "outputs": []
    },
    {
      "cell_type": "code",
      "metadata": {
        "id": "svQCwVMJmnP2",
        "colab_type": "code",
        "outputId": "006928b0-f089-4ddb-df53-e355b13210c7",
        "colab": {
          "base_uri": "https://localhost:8080/",
          "height": 370
        }
      },
      "source": [
        "history = model.fit(train_images, train_labels, epochs=10, \n",
        "                    validation_data=(test_images, test_labels))"
      ],
      "execution_count": 0,
      "outputs": [
        {
          "output_type": "stream",
          "text": [
            "Train on 60000 samples, validate on 10000 samples\n",
            "Epoch 1/10\n",
            "60000/60000 [==============================] - 26s 437us/sample - loss: 0.7370 - accuracy: 0.7617 - val_loss: 0.2678 - val_accuracy: 0.9209\n",
            "Epoch 2/10\n",
            "60000/60000 [==============================] - 21s 357us/sample - loss: 0.2455 - accuracy: 0.9296 - val_loss: 0.1555 - val_accuracy: 0.9549\n",
            "Epoch 3/10\n",
            "60000/60000 [==============================] - 21s 345us/sample - loss: 0.1759 - accuracy: 0.9479 - val_loss: 0.1407 - val_accuracy: 0.9559\n",
            "Epoch 4/10\n",
            "60000/60000 [==============================] - 21s 345us/sample - loss: 0.1369 - accuracy: 0.9594 - val_loss: 0.1136 - val_accuracy: 0.9656\n",
            "Epoch 5/10\n",
            "60000/60000 [==============================] - 21s 344us/sample - loss: 0.1117 - accuracy: 0.9666 - val_loss: 0.0845 - val_accuracy: 0.9744\n",
            "Epoch 6/10\n",
            "60000/60000 [==============================] - 21s 344us/sample - loss: 0.0969 - accuracy: 0.9721 - val_loss: 0.0826 - val_accuracy: 0.9741\n",
            "Epoch 7/10\n",
            "60000/60000 [==============================] - 21s 345us/sample - loss: 0.0834 - accuracy: 0.9751 - val_loss: 0.0892 - val_accuracy: 0.9710\n",
            "Epoch 8/10\n",
            "60000/60000 [==============================] - 21s 347us/sample - loss: 0.0753 - accuracy: 0.9778 - val_loss: 0.1048 - val_accuracy: 0.9652\n",
            "Epoch 9/10\n",
            "60000/60000 [==============================] - 21s 351us/sample - loss: 0.0676 - accuracy: 0.9795 - val_loss: 0.0537 - val_accuracy: 0.9828\n",
            "Epoch 10/10\n",
            "60000/60000 [==============================] - 21s 348us/sample - loss: 0.0609 - accuracy: 0.9814 - val_loss: 0.0434 - val_accuracy: 0.9852\n"
          ],
          "name": "stdout"
        }
      ]
    },
    {
      "cell_type": "code",
      "metadata": {
        "id": "JNTjhoAUquEW",
        "colab_type": "code",
        "outputId": "87ba5c5e-3313-4a35-be6a-8b6e73b876d4",
        "colab": {
          "base_uri": "https://localhost:8080/",
          "height": 300
        }
      },
      "source": [
        "plt.plot(history.history['accuracy'], label='accuracy')\n",
        "plt.plot(history.history['val_accuracy'], label='val_accuracy')\n",
        "plt.xlabel('Epoch')\n",
        "plt.ylabel('Accuracy')\n",
        "plt.ylim([0.7, 1])\n",
        "plt.legend(loc='best')"
      ],
      "execution_count": 0,
      "outputs": [
        {
          "output_type": "execute_result",
          "data": {
            "text/plain": [
              "<matplotlib.legend.Legend at 0x7f2024964b38>"
            ]
          },
          "metadata": {
            "tags": []
          },
          "execution_count": 10
        },
        {
          "output_type": "display_data",
          "data": {
            "image/png": "[encoded data removed]",
            "text/plain": [
              "<Figure size 432x288 with 1 Axes>"
            ]
          },
          "metadata": {
            "tags": []
          }
        }
      ]
    },
    {
      "cell_type": "code",
      "metadata": {
        "id": "64Z2Tjb8u5Xg",
        "colab_type": "code",
        "outputId": "29820177-a4d1-433e-e346-cff788ad05d1",
        "colab": {
          "base_uri": "https://localhost:8080/",
          "height": 300
        }
      },
      "source": [
        "plt.plot(history.history['loss'], label='loss')\n",
        "plt.plot(history.history['val_loss'], label='val_loss')\n",
        "plt.xlabel('Epoch')\n",
        "plt.ylabel('Loss')\n",
        "plt.legend(loc='best')"
      ],
      "execution_count": 0,
      "outputs": [
        {
          "output_type": "execute_result",
          "data": {
            "text/plain": [
              "<matplotlib.legend.Legend at 0x7f1fd4573240>"
            ]
          },
          "metadata": {
            "tags": []
          },
          "execution_count": 22
        },
        {
          "output_type": "display_data",
          "data": {
            "image/png": "[encoded data removed]",
            "text/plain": [
              "<Figure size 432x288 with 1 Axes>"
            ]
          },
          "metadata": {
            "tags": []
          }
        }
      ]
    },
    {
      "cell_type": "code",
      "metadata": {
        "id": "se9JWoN8rtmi",
        "colab_type": "code",
        "outputId": "112b96c7-f329-4616-8f98-b5ac4a575f89",
        "colab": {
          "base_uri": "https://localhost:8080/",
          "height": 67
        }
      },
      "source": [
        "test_loss, test_accuracy = model.evaluate(test_images,  test_labels, verbose=2)\n",
        "\n",
        "print('\\nTest accuracy = {0:.2f}%'.format(test_accuracy*100.0))"
      ],
      "execution_count": 0,
      "outputs": [
        {
          "output_type": "stream",
          "text": [
            "10000/1 - 2s - loss: 0.0218 - accuracy: 0.9852\n",
            "\n",
            "Test accuracy = 98.52%\n"
          ],
          "name": "stdout"
        }
      ]
    }
  ]
}